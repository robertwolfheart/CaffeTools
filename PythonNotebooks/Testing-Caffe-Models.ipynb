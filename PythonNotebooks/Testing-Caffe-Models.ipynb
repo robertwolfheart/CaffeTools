{
 "cells": [
  {
   "cell_type": "markdown",
   "metadata": {},
   "source": [
    "# Imports"
   ]
  },
  {
   "cell_type": "code",
   "execution_count": null,
   "metadata": {
    "collapsed": false
   },
   "outputs": [],
   "source": [
    "from pylab import *\n",
    "%matplotlib inline\n",
    "\n",
    "caffe_library = '../caffelibrary/'\n",
    "\n",
    "import sys\n",
    "sys.path.insert(0, caffe_library)\n",
    "import caffe\n",
    "import os\n",
    "\n",
    "import numpy as np\n",
    "import matplotlib.pyplot as plt\n",
    "from PIL import Image\n",
    "from sklearn import preprocessing\n",
    "import scipy.misc"
   ]
  },
  {
   "cell_type": "markdown",
   "metadata": {},
   "source": [
    "# Methods"
   ]
  },
  {
   "cell_type": "code",
   "execution_count": null,
   "metadata": {
    "collapsed": true
   },
   "outputs": [],
   "source": [
    "scaler = preprocessing.MinMaxScaler()\n",
    "\n",
    "def scaleimage(image):    \n",
    "    ascolumns = image.reshape(-1, 3)\n",
    "    t = scaler.fit_transform(ascolumns)\n",
    "    transformed = t.reshape(image.shape)     \n",
    "        \n",
    "    return transformed\n",
    "\n",
    "\n",
    "def createcaffeinput(imagepath):\n",
    "    # Open the image\n",
    "    image = np.array(Image.open(imagepath))\n",
    "    # Scale (0 - 1)\n",
    "    image = scaleimage(image)\n",
    "    '''\n",
    "    Needed for caffe. For example, if the image has shape [720, 480, 3], this\n",
    "    will transform it in to the shape [3, 720, 480]\n",
    "    '''\n",
    "    image = image.transpose(2, 0, 1)\n",
    "    # Finally, we need to add a new axis, this will make the shape of the object: [1, 3, 720, 480]\n",
    "    image = image[np.newaxis, :, :]\n",
    "    \n",
    "    return image\n",
    "\n",
    "\n",
    "def inputimage(net, layername, imagepath):\n",
    "    caffeinput = createcaffeinput(imagepath)\n",
    "    net.blobs[layername].reshape(*caffeinput.shape)\n",
    "    net.blobs[layername].data[...] = caffeinput\n",
    "    \n",
    "    \n",
    "def saveresults(net, layers):\n",
    "    for name in layers:\n",
    "        image = net.blobs[name].data[0]\n",
    "        scipy.misc.imsave(name + '.jpg', image.transpose(1, 2, 0))\n",
    "        \n",
    "\n",
    "def rgb2gray(rgb):\n",
    "    return np.dot(rgb[...,:3], [0.299, 0.587, 0.114])\n",
    "\n",
    "def getdistance(x, y):\n",
    "    return np.linalg.norm(x-y)"
   ]
  },
  {
   "cell_type": "markdown",
   "metadata": {},
   "source": [
    "# Input Images"
   ]
  },
  {
   "cell_type": "code",
   "execution_count": null,
   "metadata": {
    "collapsed": false
   },
   "outputs": [],
   "source": [
    "IMAGE_FILE = 'Some path' # label\n",
    "IMAGE_FILE_DIRTY = 'Some path' #processed"
   ]
  },
  {
   "cell_type": "markdown",
   "metadata": {},
   "source": [
    "# Loading the caffe model"
   ]
  },
  {
   "cell_type": "code",
   "execution_count": null,
   "metadata": {
    "collapsed": false
   },
   "outputs": [],
   "source": [
    "MODEL_ARQUITECTURE = 'prototxt file path'\n",
    "MODEL = 'Path to a caffe model'\n",
    "net = caffe.Net(MODEL_ARQUITECTURE, MODEL, caffe.TEST)"
   ]
  },
  {
   "cell_type": "markdown",
   "metadata": {},
   "source": [
    "# Test"
   ]
  },
  {
   "cell_type": "code",
   "execution_count": null,
   "metadata": {
    "collapsed": false
   },
   "outputs": [],
   "source": [
    "inputimage(net, 'clean', IMAGE_FILE)\n",
    "inputimage(net, 'dirty', IMAGE_FILE_DIRTY)\n",
    "\n",
    "out = net.forward()\n",
    "saveresults(net, ['clean', 'dirty', 'result'])\n",
    "\n",
    "print out"
   ]
  }
 ],
 "metadata": {
  "kernelspec": {
   "display_name": "Python 2",
   "language": "python",
   "name": "python2"
  },
  "language_info": {
   "codemirror_mode": {
    "name": "ipython",
    "version": 2
   },
   "file_extension": ".py",
   "mimetype": "text/x-python",
   "name": "python",
   "nbconvert_exporter": "python",
   "pygments_lexer": "ipython2",
   "version": "2.7.10"
  }
 },
 "nbformat": 4,
 "nbformat_minor": 0
}
